{
  "nbformat": 4,
  "nbformat_minor": 0,
  "metadata": {
    "colab": {
      "provenance": []
    },
    "kernelspec": {
      "name": "python3",
      "display_name": "Python 3"
    },
    "language_info": {
      "name": "python"
    }
  },
  "cells": [
    {
      "cell_type": "code",
      "execution_count": 16,
      "metadata": {
        "colab": {
          "base_uri": "https://localhost:8080/"
        },
        "id": "2S18mffM4Ym_",
        "outputId": "206f5905-75a4-4664-a19a-5f000dcdf162"
      },
      "outputs": [
        {
          "output_type": "stream",
          "name": "stderr",
          "text": [
            "[nltk_data] Downloading package webtext to /root/nltk_data...\n",
            "[nltk_data]   Unzipping corpora/webtext.zip.\n",
            "[nltk_data] Downloading package stopwords to /root/nltk_data...\n",
            "[nltk_data]   Unzipping corpora/stopwords.zip.\n",
            "[nltk_data] Downloading package punkt to /root/nltk_data...\n",
            "[nltk_data]   Unzipping tokenizers/punkt.zip.\n"
          ]
        }
      ],
      "source": [
        "import nltk\n",
        "nltk.download('webtext')\n",
        "nltk.download('stopwords')\n",
        "nltk.download('punkt')\n",
        "from nltk.corpus import webtext\n",
        "from nltk.corpus import stopwords\n",
        "from nltk.tokenize import word_tokenize\n",
        "from nltk.probability import FreqDist\n",
        "from nltk.stem import PorterStemmer, LancasterStemmer\n",
        "from nltk.stem import WordNetLemmatizer\n",
        "import string\n",
        "from collections import Counter\n"
      ]
    },
    {
      "cell_type": "code",
      "source": [
        "import pandas as pd\n",
        "\n",
        "documents = webtext.fileids()\n",
        "data = []\n",
        "\n",
        "for doc in documents:\n",
        "    text = webtext.raw(doc)\n",
        "    tokens = word_tokenize(text)\n",
        "    lowercase_tokens = [token.lower() for token in tokens]\n",
        "    stop_words = [token for token in lowercase_tokens if token in stopwords.words('english')]\n",
        "    uppercase_tokens = [token for token in tokens if token.isupper()]\n",
        "\n",
        "    data.append([doc, len(stop_words), len(tokens), len(uppercase_tokens)])\n",
        "\n",
        "df = pd.DataFrame(data, columns=[\"Document_Name\", \"Stop_Words\", \"Tokens\", \"Uppercase_Tokens\"])\n",
        "print(\"5 premières lignes du DataFrame :\")\n",
        "print(df.head())\n",
        "print(\"\\n5 dernières lignes du DataFrame :\")\n",
        "print(df.tail())\n"
      ],
      "metadata": {
        "colab": {
          "base_uri": "https://localhost:8080/"
        },
        "id": "cD9Q4acB47EY",
        "outputId": "e3f145d6-9c5d-427b-b1b7-77cf7e90c286"
      },
      "execution_count": 17,
      "outputs": [
        {
          "output_type": "stream",
          "name": "stdout",
          "text": [
            "5 premières lignes du DataFrame :\n",
            "   Document_Name  Stop_Words  Tokens  Uppercase_Tokens\n",
            "0    firefox.txt       26545   96116              2079\n",
            "1      grail.txt        4380   16460              1760\n",
            "2  overheard.txt       71425  210101              7460\n",
            "3    pirates.txt        6950   21987              1771\n",
            "4    singles.txt         727    4466               410\n",
            "\n",
            "5 dernières lignes du DataFrame :\n",
            "   Document_Name  Stop_Words  Tokens  Uppercase_Tokens\n",
            "1      grail.txt        4380   16460              1760\n",
            "2  overheard.txt       71425  210101              7460\n",
            "3    pirates.txt        6950   21987              1771\n",
            "4    singles.txt         727    4466               410\n",
            "5       wine.txt        9243   33446               676\n"
          ]
        }
      ]
    },
    {
      "cell_type": "code",
      "source": [
        "df['Tokens'] = df['Document_Name'].apply(lambda doc: [token for token in word_tokenize(webtext.raw(doc)) if token.lower() not in stopwords.words('english')])\n",
        "df['Tokens'] = df['Tokens'].apply(lambda tokens: [token.lower() for token in tokens])\n"
      ],
      "metadata": {
        "id": "9u2HM1xi5yhu"
      },
      "execution_count": 18,
      "outputs": []
    },
    {
      "cell_type": "code",
      "source": [
        "df"
      ],
      "metadata": {
        "colab": {
          "base_uri": "https://localhost:8080/",
          "height": 237
        },
        "id": "cmAa3OpY7G90",
        "outputId": "8b6c5b62-ea72-489b-8cf5-ab9e8099122f"
      },
      "execution_count": 19,
      "outputs": [
        {
          "output_type": "execute_result",
          "data": {
            "text/plain": [
              "   Document_Name  Stop_Words  \\\n",
              "0    firefox.txt       26545   \n",
              "1      grail.txt        4380   \n",
              "2  overheard.txt       71425   \n",
              "3    pirates.txt        6950   \n",
              "4    singles.txt         727   \n",
              "5       wine.txt        9243   \n",
              "\n",
              "                                              Tokens  Uppercase_Tokens  \n",
              "0  [cookie, manager, :, ``, n't, allow, sites, se...              2079  \n",
              "1  [scene, 1, :, [, wind, ], [, clop, clop, clop,...              1760  \n",
              "2  [white, guy, :, ,, plans, evening, ?, asian, g...              7460  \n",
              "3  [pirates, carribean, :, dead, man, 's, chest, ...              1771  \n",
              "4  [25, sexy, male, ,, seeks, attrac, older, sing...               410  \n",
              "5  [lovely, delicate, ,, fragrant, rhone, wine, ....               676  "
            ],
            "text/html": [
              "\n",
              "  <div id=\"df-9bf05c0b-cbd6-4bdc-95bd-318f553d55fc\" class=\"colab-df-container\">\n",
              "    <div>\n",
              "<style scoped>\n",
              "    .dataframe tbody tr th:only-of-type {\n",
              "        vertical-align: middle;\n",
              "    }\n",
              "\n",
              "    .dataframe tbody tr th {\n",
              "        vertical-align: top;\n",
              "    }\n",
              "\n",
              "    .dataframe thead th {\n",
              "        text-align: right;\n",
              "    }\n",
              "</style>\n",
              "<table border=\"1\" class=\"dataframe\">\n",
              "  <thead>\n",
              "    <tr style=\"text-align: right;\">\n",
              "      <th></th>\n",
              "      <th>Document_Name</th>\n",
              "      <th>Stop_Words</th>\n",
              "      <th>Tokens</th>\n",
              "      <th>Uppercase_Tokens</th>\n",
              "    </tr>\n",
              "  </thead>\n",
              "  <tbody>\n",
              "    <tr>\n",
              "      <th>0</th>\n",
              "      <td>firefox.txt</td>\n",
              "      <td>26545</td>\n",
              "      <td>[cookie, manager, :, ``, n't, allow, sites, se...</td>\n",
              "      <td>2079</td>\n",
              "    </tr>\n",
              "    <tr>\n",
              "      <th>1</th>\n",
              "      <td>grail.txt</td>\n",
              "      <td>4380</td>\n",
              "      <td>[scene, 1, :, [, wind, ], [, clop, clop, clop,...</td>\n",
              "      <td>1760</td>\n",
              "    </tr>\n",
              "    <tr>\n",
              "      <th>2</th>\n",
              "      <td>overheard.txt</td>\n",
              "      <td>71425</td>\n",
              "      <td>[white, guy, :, ,, plans, evening, ?, asian, g...</td>\n",
              "      <td>7460</td>\n",
              "    </tr>\n",
              "    <tr>\n",
              "      <th>3</th>\n",
              "      <td>pirates.txt</td>\n",
              "      <td>6950</td>\n",
              "      <td>[pirates, carribean, :, dead, man, 's, chest, ...</td>\n",
              "      <td>1771</td>\n",
              "    </tr>\n",
              "    <tr>\n",
              "      <th>4</th>\n",
              "      <td>singles.txt</td>\n",
              "      <td>727</td>\n",
              "      <td>[25, sexy, male, ,, seeks, attrac, older, sing...</td>\n",
              "      <td>410</td>\n",
              "    </tr>\n",
              "    <tr>\n",
              "      <th>5</th>\n",
              "      <td>wine.txt</td>\n",
              "      <td>9243</td>\n",
              "      <td>[lovely, delicate, ,, fragrant, rhone, wine, ....</td>\n",
              "      <td>676</td>\n",
              "    </tr>\n",
              "  </tbody>\n",
              "</table>\n",
              "</div>\n",
              "    <div class=\"colab-df-buttons\">\n",
              "\n",
              "  <div class=\"colab-df-container\">\n",
              "    <button class=\"colab-df-convert\" onclick=\"convertToInteractive('df-9bf05c0b-cbd6-4bdc-95bd-318f553d55fc')\"\n",
              "            title=\"Convert this dataframe to an interactive table.\"\n",
              "            style=\"display:none;\">\n",
              "\n",
              "  <svg xmlns=\"http://www.w3.org/2000/svg\" height=\"24px\" viewBox=\"0 -960 960 960\">\n",
              "    <path d=\"M120-120v-720h720v720H120Zm60-500h600v-160H180v160Zm220 220h160v-160H400v160Zm0 220h160v-160H400v160ZM180-400h160v-160H180v160Zm440 0h160v-160H620v160ZM180-180h160v-160H180v160Zm440 0h160v-160H620v160Z\"/>\n",
              "  </svg>\n",
              "    </button>\n",
              "\n",
              "  <style>\n",
              "    .colab-df-container {\n",
              "      display:flex;\n",
              "      gap: 12px;\n",
              "    }\n",
              "\n",
              "    .colab-df-convert {\n",
              "      background-color: #E8F0FE;\n",
              "      border: none;\n",
              "      border-radius: 50%;\n",
              "      cursor: pointer;\n",
              "      display: none;\n",
              "      fill: #1967D2;\n",
              "      height: 32px;\n",
              "      padding: 0 0 0 0;\n",
              "      width: 32px;\n",
              "    }\n",
              "\n",
              "    .colab-df-convert:hover {\n",
              "      background-color: #E2EBFA;\n",
              "      box-shadow: 0px 1px 2px rgba(60, 64, 67, 0.3), 0px 1px 3px 1px rgba(60, 64, 67, 0.15);\n",
              "      fill: #174EA6;\n",
              "    }\n",
              "\n",
              "    .colab-df-buttons div {\n",
              "      margin-bottom: 4px;\n",
              "    }\n",
              "\n",
              "    [theme=dark] .colab-df-convert {\n",
              "      background-color: #3B4455;\n",
              "      fill: #D2E3FC;\n",
              "    }\n",
              "\n",
              "    [theme=dark] .colab-df-convert:hover {\n",
              "      background-color: #434B5C;\n",
              "      box-shadow: 0px 1px 3px 1px rgba(0, 0, 0, 0.15);\n",
              "      filter: drop-shadow(0px 1px 2px rgba(0, 0, 0, 0.3));\n",
              "      fill: #FFFFFF;\n",
              "    }\n",
              "  </style>\n",
              "\n",
              "    <script>\n",
              "      const buttonEl =\n",
              "        document.querySelector('#df-9bf05c0b-cbd6-4bdc-95bd-318f553d55fc button.colab-df-convert');\n",
              "      buttonEl.style.display =\n",
              "        google.colab.kernel.accessAllowed ? 'block' : 'none';\n",
              "\n",
              "      async function convertToInteractive(key) {\n",
              "        const element = document.querySelector('#df-9bf05c0b-cbd6-4bdc-95bd-318f553d55fc');\n",
              "        const dataTable =\n",
              "          await google.colab.kernel.invokeFunction('convertToInteractive',\n",
              "                                                    [key], {});\n",
              "        if (!dataTable) return;\n",
              "\n",
              "        const docLinkHtml = 'Like what you see? Visit the ' +\n",
              "          '<a target=\"_blank\" href=https://colab.research.google.com/notebooks/data_table.ipynb>data table notebook</a>'\n",
              "          + ' to learn more about interactive tables.';\n",
              "        element.innerHTML = '';\n",
              "        dataTable['output_type'] = 'display_data';\n",
              "        await google.colab.output.renderOutput(dataTable, element);\n",
              "        const docLink = document.createElement('div');\n",
              "        docLink.innerHTML = docLinkHtml;\n",
              "        element.appendChild(docLink);\n",
              "      }\n",
              "    </script>\n",
              "  </div>\n",
              "\n",
              "\n",
              "<div id=\"df-665c856c-9d0c-412e-98e4-2024ebc135a0\">\n",
              "  <button class=\"colab-df-quickchart\" onclick=\"quickchart('df-665c856c-9d0c-412e-98e4-2024ebc135a0')\"\n",
              "            title=\"Suggest charts.\"\n",
              "            style=\"display:none;\">\n",
              "\n",
              "<svg xmlns=\"http://www.w3.org/2000/svg\" height=\"24px\"viewBox=\"0 0 24 24\"\n",
              "     width=\"24px\">\n",
              "    <g>\n",
              "        <path d=\"M19 3H5c-1.1 0-2 .9-2 2v14c0 1.1.9 2 2 2h14c1.1 0 2-.9 2-2V5c0-1.1-.9-2-2-2zM9 17H7v-7h2v7zm4 0h-2V7h2v10zm4 0h-2v-4h2v4z\"/>\n",
              "    </g>\n",
              "</svg>\n",
              "  </button>\n",
              "\n",
              "<style>\n",
              "  .colab-df-quickchart {\n",
              "      --bg-color: #E8F0FE;\n",
              "      --fill-color: #1967D2;\n",
              "      --hover-bg-color: #E2EBFA;\n",
              "      --hover-fill-color: #174EA6;\n",
              "      --disabled-fill-color: #AAA;\n",
              "      --disabled-bg-color: #DDD;\n",
              "  }\n",
              "\n",
              "  [theme=dark] .colab-df-quickchart {\n",
              "      --bg-color: #3B4455;\n",
              "      --fill-color: #D2E3FC;\n",
              "      --hover-bg-color: #434B5C;\n",
              "      --hover-fill-color: #FFFFFF;\n",
              "      --disabled-bg-color: #3B4455;\n",
              "      --disabled-fill-color: #666;\n",
              "  }\n",
              "\n",
              "  .colab-df-quickchart {\n",
              "    background-color: var(--bg-color);\n",
              "    border: none;\n",
              "    border-radius: 50%;\n",
              "    cursor: pointer;\n",
              "    display: none;\n",
              "    fill: var(--fill-color);\n",
              "    height: 32px;\n",
              "    padding: 0;\n",
              "    width: 32px;\n",
              "  }\n",
              "\n",
              "  .colab-df-quickchart:hover {\n",
              "    background-color: var(--hover-bg-color);\n",
              "    box-shadow: 0 1px 2px rgba(60, 64, 67, 0.3), 0 1px 3px 1px rgba(60, 64, 67, 0.15);\n",
              "    fill: var(--button-hover-fill-color);\n",
              "  }\n",
              "\n",
              "  .colab-df-quickchart-complete:disabled,\n",
              "  .colab-df-quickchart-complete:disabled:hover {\n",
              "    background-color: var(--disabled-bg-color);\n",
              "    fill: var(--disabled-fill-color);\n",
              "    box-shadow: none;\n",
              "  }\n",
              "\n",
              "  .colab-df-spinner {\n",
              "    border: 2px solid var(--fill-color);\n",
              "    border-color: transparent;\n",
              "    border-bottom-color: var(--fill-color);\n",
              "    animation:\n",
              "      spin 1s steps(1) infinite;\n",
              "  }\n",
              "\n",
              "  @keyframes spin {\n",
              "    0% {\n",
              "      border-color: transparent;\n",
              "      border-bottom-color: var(--fill-color);\n",
              "      border-left-color: var(--fill-color);\n",
              "    }\n",
              "    20% {\n",
              "      border-color: transparent;\n",
              "      border-left-color: var(--fill-color);\n",
              "      border-top-color: var(--fill-color);\n",
              "    }\n",
              "    30% {\n",
              "      border-color: transparent;\n",
              "      border-left-color: var(--fill-color);\n",
              "      border-top-color: var(--fill-color);\n",
              "      border-right-color: var(--fill-color);\n",
              "    }\n",
              "    40% {\n",
              "      border-color: transparent;\n",
              "      border-right-color: var(--fill-color);\n",
              "      border-top-color: var(--fill-color);\n",
              "    }\n",
              "    60% {\n",
              "      border-color: transparent;\n",
              "      border-right-color: var(--fill-color);\n",
              "    }\n",
              "    80% {\n",
              "      border-color: transparent;\n",
              "      border-right-color: var(--fill-color);\n",
              "      border-bottom-color: var(--fill-color);\n",
              "    }\n",
              "    90% {\n",
              "      border-color: transparent;\n",
              "      border-bottom-color: var(--fill-color);\n",
              "    }\n",
              "  }\n",
              "</style>\n",
              "\n",
              "  <script>\n",
              "    async function quickchart(key) {\n",
              "      const quickchartButtonEl =\n",
              "        document.querySelector('#' + key + ' button');\n",
              "      quickchartButtonEl.disabled = true;  // To prevent multiple clicks.\n",
              "      quickchartButtonEl.classList.add('colab-df-spinner');\n",
              "      try {\n",
              "        const charts = await google.colab.kernel.invokeFunction(\n",
              "            'suggestCharts', [key], {});\n",
              "      } catch (error) {\n",
              "        console.error('Error during call to suggestCharts:', error);\n",
              "      }\n",
              "      quickchartButtonEl.classList.remove('colab-df-spinner');\n",
              "      quickchartButtonEl.classList.add('colab-df-quickchart-complete');\n",
              "    }\n",
              "    (() => {\n",
              "      let quickchartButtonEl =\n",
              "        document.querySelector('#df-665c856c-9d0c-412e-98e4-2024ebc135a0 button');\n",
              "      quickchartButtonEl.style.display =\n",
              "        google.colab.kernel.accessAllowed ? 'block' : 'none';\n",
              "    })();\n",
              "  </script>\n",
              "</div>\n",
              "    </div>\n",
              "  </div>\n"
            ]
          },
          "metadata": {},
          "execution_count": 19
        }
      ]
    },
    {
      "cell_type": "code",
      "source": [
        "# filtered_tokens = [token.lower() for token in tokens if token.lower() not in stopwords.words('english')]\n"
      ],
      "metadata": {
        "id": "ouxSGLUY8AfQ"
      },
      "execution_count": 20,
      "outputs": []
    },
    {
      "cell_type": "code",
      "source": [
        "all_tokens = [token for tokens in df['Tokens'] for token in tokens]\n",
        "token_freq = FreqDist(all_tokens)\n",
        "most_common_tokens = token_freq.most_common(10)\n",
        "print(\"Les 10 tokens les plus fréquents :\")\n",
        "print(most_common_tokens)\n"
      ],
      "metadata": {
        "colab": {
          "base_uri": "https://localhost:8080/"
        },
        "id": "xw2oG9oa9JG0",
        "outputId": "70247ac7-3d35-4c14-a5b5-664a6cf5b223"
      },
      "execution_count": 21,
      "outputs": [
        {
          "output_type": "stream",
          "name": "stdout",
          "text": [
            "Les 10 tokens les plus fréquents :\n",
            "[('.', 16479), (':', 14328), (',', 12427), ('?', 4743), ('!', 4417), ('*', 3944), ('#', 3777), (\"n't\", 3481), (\"'s\", 3198), ('girl', 2955)]\n"
          ]
        }
      ]
    },
    {
      "cell_type": "code",
      "source": [
        "# Vous pouvez supprimer les 10 tokens les moins fréquents de chaque document en utilisant \"most_common\" ou \"remove\".\n",
        "# Par exemple, pour supprimer les 10 tokens les moins fréquents de chaque document :\n",
        "least_common_tokens = token_freq.most_common()[:-11:-1]\n",
        "df['Tokens'] = df['Tokens'].apply(lambda tokens: [token for token in tokens if token not in [t[0] for t in least_common_tokens]])\n"
      ],
      "metadata": {
        "id": "uId21aEZ9u2M"
      },
      "execution_count": 22,
      "outputs": []
    },
    {
      "cell_type": "code",
      "source": [
        "def remove_digits_and_punctuation(text):\n",
        "    text = ''.join([char for char in text if char not in string.punctuation and not char.isdigit()])\n",
        "    return text\n"
      ],
      "metadata": {
        "id": "kBxl9Zf99-lI"
      },
      "execution_count": 23,
      "outputs": []
    },
    {
      "cell_type": "code",
      "source": [
        "import inflect\n",
        "\n",
        "def convert_numbers_to_words(text):\n",
        "    p = inflect.engine()\n",
        "    words = text.split()\n",
        "    words = [p.number_to_words(word) if word.isdigit() else word for word in words]\n",
        "    return ' '.join(words)\n"
      ],
      "metadata": {
        "id": "3qsPE2FZ-GTV"
      },
      "execution_count": 24,
      "outputs": []
    },
    {
      "cell_type": "code",
      "source": [
        "!pip install emoji"
      ],
      "metadata": {
        "colab": {
          "base_uri": "https://localhost:8080/"
        },
        "id": "ep07k0oC-8p9",
        "outputId": "9f5000e9-457f-495a-fc69-9dc1ac6405aa"
      },
      "execution_count": 25,
      "outputs": [
        {
          "output_type": "stream",
          "name": "stdout",
          "text": [
            "Requirement already satisfied: emoji in /usr/local/lib/python3.10/dist-packages (2.8.0)\n"
          ]
        }
      ]
    },
    {
      "cell_type": "code",
      "source": [
        "import emoji\n"
      ],
      "metadata": {
        "id": "YO1QfsIJ-51b"
      },
      "execution_count": 26,
      "outputs": []
    },
    {
      "cell_type": "code",
      "source": [
        "def compter_emojis(texte):\n",
        "  \"\"\"\n",
        "  Compte le nombre d'emojis dans un texte.\n",
        "\n",
        "  Args:\n",
        "    texte: Le texte à analyser.\n",
        "\n",
        "  Returns:\n",
        "    Le nombre d'emojis dans le texte.\n",
        "  \"\"\"\n",
        "\n",
        "  compteur = 0\n",
        "  for caractère in texte:\n",
        "    if caractère in emoji.EMOJI_DATA:\n",
        "      compteur += 1\n",
        "  return compteur\n"
      ],
      "metadata": {
        "id": "RuxPrQeO-bAb"
      },
      "execution_count": 27,
      "outputs": []
    },
    {
      "cell_type": "code",
      "source": [
        "texte = \"Ceci est un texte avec des emojis 😀 😊 😍 😇 😉 😊 😊\"\n",
        "\n",
        "compteur = compter_emojis(texte)\n",
        "\n",
        "print(compteur)\n"
      ],
      "metadata": {
        "colab": {
          "base_uri": "https://localhost:8080/"
        },
        "id": "G_Qd3hub-hkF",
        "outputId": "faeeed2d-0cdc-4d0b-9cd9-698fee4af6ce"
      },
      "execution_count": 28,
      "outputs": [
        {
          "output_type": "stream",
          "name": "stdout",
          "text": [
            "7\n"
          ]
        }
      ]
    },
    {
      "cell_type": "code",
      "source": [
        "import re"
      ],
      "metadata": {
        "id": "bUiKqab7vkkO"
      },
      "execution_count": 29,
      "outputs": []
    },
    {
      "cell_type": "code",
      "source": [
        "emojis = re.findall(r\"[\\U0001F600-\\U0001F64F]\", texte)\n",
        "\n",
        "for emoji in emojis:\n",
        "    texte = texte.replace(emoji, \"\")\n",
        "\n",
        "print(texte)"
      ],
      "metadata": {
        "colab": {
          "base_uri": "https://localhost:8080/"
        },
        "id": "bxCp5wZ_viiZ",
        "outputId": "16968244-3215-4004-8a08-fd65a7802a3d"
      },
      "execution_count": 30,
      "outputs": [
        {
          "output_type": "stream",
          "name": "stdout",
          "text": [
            "Ceci est un texte avec des emojis       \n"
          ]
        }
      ]
    },
    {
      "cell_type": "code",
      "source": [
        "from nltk.stem import PorterStemmer\n",
        "porter_stemmer = PorterStemmer()\n",
        "df['Porter Stemmed Tokens'] = df['Tokens'].apply(lambda tokens: [porter_stemmer.stem(token) for token in tokens])\n"
      ],
      "metadata": {
        "id": "pF2bTWc4wllY"
      },
      "execution_count": 31,
      "outputs": []
    },
    {
      "cell_type": "code",
      "source": [
        "from nltk.stem.lancaster import LancasterStemmer\n",
        "lancaster_stemmer = LancasterStemmer()\n",
        "df['Lancaster Stemmed Tokens'] = df['Tokens'].apply(lambda tokens: [lancaster_stemmer.stem(token) for token in tokens])\n"
      ],
      "metadata": {
        "id": "kLvTCzUyw37m"
      },
      "execution_count": 32,
      "outputs": []
    },
    {
      "cell_type": "code",
      "source": [
        "nltk.download('wordnet')\n",
        "lemmatizer = WordNetLemmatizer()\n",
        "df['Lemmatized Tokens'] = df['Tokens'].apply(lambda tokens: [lemmatizer.lemmatize(token) for token in tokens])\n"
      ],
      "metadata": {
        "colab": {
          "base_uri": "https://localhost:8080/"
        },
        "id": "aMMvY3Mzweku",
        "outputId": "81b65fe0-4d27-4c24-e697-f9ebf03d6f54"
      },
      "execution_count": 35,
      "outputs": [
        {
          "output_type": "stream",
          "name": "stderr",
          "text": [
            "[nltk_data] Downloading package wordnet to /root/nltk_data...\n"
          ]
        }
      ]
    },
    {
      "cell_type": "markdown",
      "source": [
        "**Qu'est-ce que WordNet ?**\n",
        "\n",
        "WordNet est une base de données lexicale de la langue anglaise qui organise les mots en synsets (ensembles de synonymes) et établit des relations sémantiques entre les mots. Il est utilisé pour des tâches telles que la recherche sémantique, la lemmatisation et la désambiguïsation lexicale. WordNet est principalement destiné à la langue anglaise.\n",
        "\n",
        "**Quelles langues sont supportées ?**\n",
        "\n",
        "WordNet est principalement destiné à l'anglais, mais il existe également des versions adaptées à d'autres langues telles que WordNet pour le français (French WordNet), WordNet pour l'espagnol (EuroWordNet), etc. Cependant, la couverture et la qualité des informations peuvent varier en fonction de la langue."
      ],
      "metadata": {
        "id": "fZgnLqjExX-a"
      }
    }
  ]
}